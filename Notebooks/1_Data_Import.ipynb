{
 "cells": [
  {
   "cell_type": "code",
   "execution_count": 1,
   "id": "1656f3c0",
   "metadata": {},
   "outputs": [],
   "source": [
    "import pandas as pd\n",
    "from sqlalchemy import create_engine\n",
    "import os\n",
    "import logging\n",
    "import time\n",
    "\n",
    "logging.basicConfig(\n",
    "    filename='logs/data_ingestion.log',\n",
    "    level=logging.DEBUG,\n",
    "    format=\"%(asctime)s - %(levelname)s - %(message)s\",\n",
    "    filemode=\"a\"\n",
    ")\n",
    "\n",
    "engine = create_engine('sqlite:///inventory.db')\n",
    "\n",
    "def ingest_data_in_chunks(file_path, table_name, engine, chunksize=100000):\n",
    "    \"\"\"Load large CSV into SQLite in chunks to prevent memory crash\"\"\"\n",
    "    logging.info(f\"Starting ingestion for {file_path} in chunks of {chunksize}\")\n",
    "    \n",
    "    i = 0\n",
    "    for chunk in pd.read_csv(file_path, chunksize=chunksize):\n",
    "        if_exists_option = 'replace' if i == 0 else 'append'  # first chunk replaces, others append\n",
    "        chunk.to_sql(table_name, con=engine, if_exists=if_exists_option, index=False)\n",
    "        i += 1\n",
    "        logging.info(f\"Loaded chunk {i} for {file_path}\")\n",
    "    \n",
    "    logging.info(f\"Completed ingestion for {file_path}\")\n",
    "\n",
    "def load_raw_data():\n",
    "    \"\"\"Ingest every CSV file one by one into the database using chunks\"\"\"\n",
    "    start = time.time()\n",
    "    for file in os.listdir('data'):\n",
    "        if file.endswith('.csv'):\n",
    "            file_path = os.path.join('data', file)\n",
    "            table_name = file[:-4]  # remove .csv\n",
    "            ingest_data_in_chunks(file_path, table_name, engine)\n",
    "    end_time = time.time()\n",
    "    total_time = (end_time - start)/60\n",
    "    logging.info(\"Ingestion Complete Successfully\")\n",
    "    logging.info(f\"Total ingestion time: {total_time:.2f} minutes\")\n",
    "\n",
    "if __name__ == '__main__':\n",
    "    load_raw_data()\n"
   ]
  }
 ],
 "metadata": {
  "kernelspec": {
   "display_name": "Python 3",
   "language": "python",
   "name": "python3"
  },
  "language_info": {
   "codemirror_mode": {
    "name": "ipython",
    "version": 3
   },
   "file_extension": ".py",
   "mimetype": "text/x-python",
   "name": "python",
   "nbconvert_exporter": "python",
   "pygments_lexer": "ipython3",
   "version": "3.13.5"
  }
 },
 "nbformat": 4,
 "nbformat_minor": 5
}
